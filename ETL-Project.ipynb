{
 "cells": [
  {
   "cell_type": "code",
   "execution_count": 1,
   "metadata": {},
   "outputs": [],
   "source": [
    "import json\n",
    "import pprint\n",
    "import requests\n",
    "import numpy as np\n",
    "import pandas as pd\n",
    "import matplotlib.pyplot as plt\n",
    "\n",
    "from bs4 import BeautifulSoup\n",
    "from IPython.display import display\n",
    "from matplotlib.lines import Line2D\n",
    "from sqlalchemy import create_engine\n",
    "\n",
    "engine = create_engine(\"sqlite:///project2.sqlite\")"
   ]
  },
  {
   "cell_type": "markdown",
   "metadata": {},
   "source": [
    "# DATA EXTRACTION"
   ]
  },
  {
   "cell_type": "markdown",
   "metadata": {},
   "source": [
    "### UK data extraction via .csv"
   ]
  },
  {
   "cell_type": "code",
   "execution_count": 2,
   "metadata": {},
   "outputs": [
    {
     "data": {
      "text/html": [
       "<div>\n",
       "<style scoped>\n",
       "    .dataframe tbody tr th:only-of-type {\n",
       "        vertical-align: middle;\n",
       "    }\n",
       "\n",
       "    .dataframe tbody tr th {\n",
       "        vertical-align: top;\n",
       "    }\n",
       "\n",
       "    .dataframe thead th {\n",
       "        text-align: right;\n",
       "    }\n",
       "</style>\n",
       "<table border=\"1\" class=\"dataframe\">\n",
       "  <thead>\n",
       "    <tr style=\"text-align: right;\">\n",
       "      <th></th>\n",
       "      <th>Number</th>\n",
       "    </tr>\n",
       "    <tr>\n",
       "      <th>year</th>\n",
       "      <th></th>\n",
       "    </tr>\n",
       "  </thead>\n",
       "  <tbody>\n",
       "    <tr>\n",
       "      <th>15</th>\n",
       "      <td>3402114</td>\n",
       "    </tr>\n",
       "    <tr>\n",
       "      <th>16</th>\n",
       "      <td>4814467</td>\n",
       "    </tr>\n",
       "    <tr>\n",
       "      <th>17</th>\n",
       "      <td>5457761</td>\n",
       "    </tr>\n",
       "    <tr>\n",
       "      <th>18</th>\n",
       "      <td>5835033</td>\n",
       "    </tr>\n",
       "    <tr>\n",
       "      <th>19</th>\n",
       "      <td>6090632</td>\n",
       "    </tr>\n",
       "  </tbody>\n",
       "</table>\n",
       "</div>"
      ],
      "text/plain": [
       "       Number\n",
       "year         \n",
       "15    3402114\n",
       "16    4814467\n",
       "17    5457761\n",
       "18    5835033\n",
       "19    6090632"
      ]
     },
     "metadata": {},
     "output_type": "display_data"
    }
   ],
   "source": [
    "df = pd.read_csv(\"uk_data.csv\")\n",
    "df.columns = [\"Date\",\"Number\"]\n",
    "df.dropna(inplace=True)\n",
    "\n",
    "df.drop([2,3,5], inplace=True)\n",
    "\n",
    "df.reset_index(drop=True,inplace=True)\n",
    "df.set_index(\"Date\")\n",
    "\n",
    "# Data tansformation from .csv file. Taking data in dictionaries and adding a new column with only year, in order to be\n",
    "# able to 'groupby' in coming steps.\n",
    "df['Number'] = [int(num) for num in df['Number']]\n",
    "df['year'] = [dt[-2:] for dt in df.Date]\n",
    "\n",
    "# Groupping and summing by the newly added column to get total number of crimes per year.\n",
    "gpb = df.groupby('year').sum()\n",
    "\n",
    "# Removing the last year to match the year in other countries crime datasets.\n",
    "gpb = gpb[:-1]\n",
    "display(gpb)"
   ]
  },
  {
   "cell_type": "code",
   "execution_count": null,
   "metadata": {},
   "outputs": [],
   "source": [
    "'''\n",
    "ddd = df.Date[-2:].dt.year\n",
    "v = [dt[-2:] for dt in df.Date]\n",
    "print(v)\n",
    "'''"
   ]
  },
  {
   "cell_type": "markdown",
   "metadata": {},
   "source": [
    "### Canada data scrapped using 'Beautiful Soup'"
   ]
  },
  {
   "cell_type": "code",
   "execution_count": 3,
   "metadata": {},
   "outputs": [],
   "source": [
    "cad_url = \"https://www150.statcan.gc.ca/t1/tbl1/en/tv.action?pid=3510017701\"\n",
    "page = requests.get(cad_url)\n",
    "cad_soup = BeautifulSoup(page.text, 'html.parser')"
   ]
  },
  {
   "cell_type": "markdown",
   "metadata": {},
   "source": [
    "**US Data Scrape**"
   ]
  },
  {
   "cell_type": "code",
   "execution_count": 4,
   "metadata": {
    "scrolled": true
   },
   "outputs": [],
   "source": [
    "url = \"http://www.disastercenter.com/crime/uscrime.htm\"\n",
    "tables = pd.read_html(url)\n",
    "df = tables[1]\n",
    "df_number = df[72:77]\n",
    "df_number.reset_index(inplace = True)\n",
    "\n",
    "df_rate = df[149:154]\n",
    "df_rate.reset_index(inplace = True)"
   ]
  },
  {
   "cell_type": "code",
   "execution_count": 5,
   "metadata": {},
   "outputs": [],
   "source": [
    "df_rate = df_rate[[0, 2]]\n",
    "df_rate.columns = [\"Date\", \"Rate\"]"
   ]
  },
  {
   "cell_type": "code",
   "execution_count": 6,
   "metadata": {},
   "outputs": [],
   "source": [
    "df_number = df_number[[0, 2]]\n",
    "df_number.columns = [\"Date\", \"Number\"]"
   ]
  },
  {
   "cell_type": "code",
   "execution_count": 7,
   "metadata": {},
   "outputs": [
    {
     "data": {
      "text/html": [
       "<div>\n",
       "<style scoped>\n",
       "    .dataframe tbody tr th:only-of-type {\n",
       "        vertical-align: middle;\n",
       "    }\n",
       "\n",
       "    .dataframe tbody tr th {\n",
       "        vertical-align: top;\n",
       "    }\n",
       "\n",
       "    .dataframe thead th {\n",
       "        text-align: right;\n",
       "    }\n",
       "</style>\n",
       "<table border=\"1\" class=\"dataframe\">\n",
       "  <thead>\n",
       "    <tr style=\"text-align: right;\">\n",
       "      <th></th>\n",
       "      <th>Date</th>\n",
       "      <th>Number</th>\n",
       "      <th>Rate</th>\n",
       "    </tr>\n",
       "  </thead>\n",
       "  <tbody>\n",
       "    <tr>\n",
       "      <th>0</th>\n",
       "      <td>2015</td>\n",
       "      <td>9258298</td>\n",
       "      <td>2885.1</td>\n",
       "    </tr>\n",
       "    <tr>\n",
       "      <th>1</th>\n",
       "      <td>2016</td>\n",
       "      <td>9214136</td>\n",
       "      <td>2849.1</td>\n",
       "    </tr>\n",
       "    <tr>\n",
       "      <th>2</th>\n",
       "      <td>2017</td>\n",
       "      <td>8966863</td>\n",
       "      <td>2757.8</td>\n",
       "    </tr>\n",
       "    <tr>\n",
       "      <th>3</th>\n",
       "      <td>2018</td>\n",
       "      <td>8471483</td>\n",
       "      <td>2593.2</td>\n",
       "    </tr>\n",
       "    <tr>\n",
       "      <th>4</th>\n",
       "      <td>2019</td>\n",
       "      <td>8171087</td>\n",
       "      <td>2489.3</td>\n",
       "    </tr>\n",
       "  </tbody>\n",
       "</table>\n",
       "</div>"
      ],
      "text/plain": [
       "   Date   Number    Rate\n",
       "0  2015  9258298  2885.1\n",
       "1  2016  9214136  2849.1\n",
       "2  2017  8966863  2757.8\n",
       "3  2018  8471483  2593.2\n",
       "4  2019  8171087  2489.3"
      ]
     },
     "execution_count": 7,
     "metadata": {},
     "output_type": "execute_result"
    }
   ],
   "source": [
    "us_df = df_number.merge(df_rate, how = \"outer\")\n",
    "us_df"
   ]
  },
  {
   "cell_type": "markdown",
   "metadata": {},
   "source": [
    "# Transformations 1:"
   ]
  },
  {
   "cell_type": "code",
   "execution_count": 8,
   "metadata": {},
   "outputs": [
    {
     "data": {
      "text/html": [
       "<div>\n",
       "<style scoped>\n",
       "    .dataframe tbody tr th:only-of-type {\n",
       "        vertical-align: middle;\n",
       "    }\n",
       "\n",
       "    .dataframe tbody tr th {\n",
       "        vertical-align: top;\n",
       "    }\n",
       "\n",
       "    .dataframe thead th {\n",
       "        text-align: right;\n",
       "    }\n",
       "</style>\n",
       "<table border=\"1\" class=\"dataframe\">\n",
       "  <thead>\n",
       "    <tr style=\"text-align: right;\">\n",
       "      <th></th>\n",
       "      <th>Date</th>\n",
       "      <th>Number</th>\n",
       "    </tr>\n",
       "  </thead>\n",
       "  <tbody>\n",
       "    <tr>\n",
       "      <th>0</th>\n",
       "      <td>2015</td>\n",
       "      <td>2,118,681</td>\n",
       "    </tr>\n",
       "    <tr>\n",
       "      <th>1</th>\n",
       "      <td>2016</td>\n",
       "      <td>2,161,927</td>\n",
       "    </tr>\n",
       "    <tr>\n",
       "      <th>2</th>\n",
       "      <td>2017</td>\n",
       "      <td>2,213,293</td>\n",
       "    </tr>\n",
       "    <tr>\n",
       "      <th>3</th>\n",
       "      <td>2018</td>\n",
       "      <td>2,280,328</td>\n",
       "    </tr>\n",
       "    <tr>\n",
       "      <th>4</th>\n",
       "      <td>2019</td>\n",
       "      <td>2,438,518</td>\n",
       "    </tr>\n",
       "  </tbody>\n",
       "</table>\n",
       "</div>"
      ],
      "text/plain": [
       "   Date     Number\n",
       "0  2015  2,118,681\n",
       "1  2016  2,161,927\n",
       "2  2017  2,213,293\n",
       "3  2018  2,280,328\n",
       "4  2019  2,438,518"
      ]
     },
     "metadata": {},
     "output_type": "display_data"
    }
   ],
   "source": [
    "cad_srp = cad_soup.find(\"script\",id='csvContent')\n",
    "table = {}\n",
    "a = 0\n",
    "for aa in cad_srp:\n",
    "    for b in aa.split('\\n'):\n",
    "        if len(b[1:-1].split('\",\"')) == 6:\n",
    "            table[b[1:-1].split('\",\"')[0]] = b[1:-1].split('\",\"')[1:]\n",
    "            a+=1\n",
    "        if a == 2:\n",
    "            break\n",
    "\n",
    "table = pd.DataFrame(table)\n",
    "table.columns = ['Date','Number']\n",
    "display(table)"
   ]
  },
  {
   "cell_type": "markdown",
   "metadata": {},
   "source": []
  },
  {
   "cell_type": "code",
   "execution_count": 9,
   "metadata": {},
   "outputs": [],
   "source": [
    "aus_url = \"https://www.abs.gov.au/statistics/people/crime-and-justice/recorded-crime-offenders/2019-20\"\n",
    "page = requests.get(aus_url)\n",
    "aus_soup = BeautifulSoup(page.text, 'html.parser')"
   ]
  },
  {
   "cell_type": "markdown",
   "metadata": {},
   "source": [
    "# Transformation 2:"
   ]
  },
  {
   "cell_type": "code",
   "execution_count": 10,
   "metadata": {},
   "outputs": [
    {
     "data": {
      "text/html": [
       "<div>\n",
       "<style scoped>\n",
       "    .dataframe tbody tr th:only-of-type {\n",
       "        vertical-align: middle;\n",
       "    }\n",
       "\n",
       "    .dataframe tbody tr th {\n",
       "        vertical-align: top;\n",
       "    }\n",
       "\n",
       "    .dataframe thead th {\n",
       "        text-align: right;\n",
       "    }\n",
       "</style>\n",
       "<table border=\"1\" class=\"dataframe\">\n",
       "  <thead>\n",
       "    <tr style=\"text-align: right;\">\n",
       "      <th></th>\n",
       "      <th>Date</th>\n",
       "      <th>Numbers</th>\n",
       "    </tr>\n",
       "  </thead>\n",
       "  <tbody>\n",
       "    <tr>\n",
       "      <th>0</th>\n",
       "      <td>2015-16</td>\n",
       "      <td>64014</td>\n",
       "    </tr>\n",
       "    <tr>\n",
       "      <th>1</th>\n",
       "      <td>2016-17</td>\n",
       "      <td>61198</td>\n",
       "    </tr>\n",
       "    <tr>\n",
       "      <th>2</th>\n",
       "      <td>2017-18</td>\n",
       "      <td>61237</td>\n",
       "    </tr>\n",
       "    <tr>\n",
       "      <th>3</th>\n",
       "      <td>2018-19</td>\n",
       "      <td>53583</td>\n",
       "    </tr>\n",
       "    <tr>\n",
       "      <th>4</th>\n",
       "      <td>2019-20</td>\n",
       "      <td>40975</td>\n",
       "    </tr>\n",
       "  </tbody>\n",
       "</table>\n",
       "</div>"
      ],
      "text/plain": [
       "      Date  Numbers\n",
       "0  2015-16    64014\n",
       "1  2016-17    61198\n",
       "2  2017-18    61237\n",
       "3  2018-19    53583\n",
       "4  2019-20    40975"
      ]
     },
     "metadata": {},
     "output_type": "display_data"
    }
   ],
   "source": [
    "aus_scrp = aus_soup.find_all(\"table\")\n",
    "aa = aus_scrp[0].find_all('th')\n",
    "bb = aus_scrp[0].find_all('td')\n",
    "data = {'Date':[],'Numbers':[]}\n",
    "for year, number in zip(aa[-5:],bb[-5:]):\n",
    "    data['Date'].append(year.text)\n",
    "    data['Numbers'].append(int(number.text.replace(',','')))    \n",
    "\n",
    "data = pd.DataFrame(data)\n",
    "display(data)"
   ]
  },
  {
   "cell_type": "markdown",
   "metadata": {},
   "source": [
    "# Data transformation 3, and combined crime record:"
   ]
  },
  {
   "cell_type": "code",
   "execution_count": 11,
   "metadata": {},
   "outputs": [
    {
     "data": {
      "text/html": [
       "<div>\n",
       "<style scoped>\n",
       "    .dataframe tbody tr th:only-of-type {\n",
       "        vertical-align: middle;\n",
       "    }\n",
       "\n",
       "    .dataframe tbody tr th {\n",
       "        vertical-align: top;\n",
       "    }\n",
       "\n",
       "    .dataframe thead th {\n",
       "        text-align: right;\n",
       "    }\n",
       "</style>\n",
       "<table border=\"1\" class=\"dataframe\">\n",
       "  <thead>\n",
       "    <tr style=\"text-align: right;\">\n",
       "      <th></th>\n",
       "      <th>Date</th>\n",
       "      <th>Australia</th>\n",
       "      <th>Canada</th>\n",
       "      <th>UK</th>\n",
       "      <th>US</th>\n",
       "    </tr>\n",
       "  </thead>\n",
       "  <tbody>\n",
       "    <tr>\n",
       "      <th>0</th>\n",
       "      <td>2015-16</td>\n",
       "      <td>64014</td>\n",
       "      <td>2118681</td>\n",
       "      <td>3402114</td>\n",
       "      <td>9258298</td>\n",
       "    </tr>\n",
       "    <tr>\n",
       "      <th>1</th>\n",
       "      <td>2016-17</td>\n",
       "      <td>61198</td>\n",
       "      <td>2161927</td>\n",
       "      <td>4814467</td>\n",
       "      <td>9214136</td>\n",
       "    </tr>\n",
       "    <tr>\n",
       "      <th>2</th>\n",
       "      <td>2017-18</td>\n",
       "      <td>61237</td>\n",
       "      <td>2213293</td>\n",
       "      <td>5457761</td>\n",
       "      <td>8966863</td>\n",
       "    </tr>\n",
       "    <tr>\n",
       "      <th>3</th>\n",
       "      <td>2018-19</td>\n",
       "      <td>53583</td>\n",
       "      <td>2280328</td>\n",
       "      <td>5835033</td>\n",
       "      <td>8471483</td>\n",
       "    </tr>\n",
       "    <tr>\n",
       "      <th>4</th>\n",
       "      <td>2019-20</td>\n",
       "      <td>40975</td>\n",
       "      <td>2438518</td>\n",
       "      <td>6090632</td>\n",
       "      <td>8171087</td>\n",
       "    </tr>\n",
       "  </tbody>\n",
       "</table>\n",
       "</div>"
      ],
      "text/plain": [
       "      Date  Australia   Canada       UK       US\n",
       "0  2015-16      64014  2118681  3402114  9258298\n",
       "1  2016-17      61198  2161927  4814467  9214136\n",
       "2  2017-18      61237  2213293  5457761  8966863\n",
       "3  2018-19      53583  2280328  5835033  8471483\n",
       "4  2019-20      40975  2438518  6090632  8171087"
      ]
     },
     "metadata": {},
     "output_type": "display_data"
    }
   ],
   "source": [
    "data.columns = ['Date','Australia']\n",
    "data['Canada']=[int(num.replace(',','')) for num in table['Number']]\n",
    "data['UK'] = list(gpb['Number'])\n",
    "data['US'] = [int(num) for num in list(us_df['Number'])]\n",
    "display(data)"
   ]
  },
  {
   "cell_type": "markdown",
   "metadata": {},
   "source": [
    "# DATA LOADING"
   ]
  },
  {
   "cell_type": "code",
   "execution_count": 12,
   "metadata": {},
   "outputs": [],
   "source": [
    "data.to_sql(\"combined_data\", engine, if_exists = 'replace')"
   ]
  },
  {
   "cell_type": "code",
   "execution_count": 13,
   "metadata": {},
   "outputs": [
    {
     "data": {
      "text/html": [
       "<div>\n",
       "<style scoped>\n",
       "    .dataframe tbody tr th:only-of-type {\n",
       "        vertical-align: middle;\n",
       "    }\n",
       "\n",
       "    .dataframe tbody tr th {\n",
       "        vertical-align: top;\n",
       "    }\n",
       "\n",
       "    .dataframe thead th {\n",
       "        text-align: right;\n",
       "    }\n",
       "</style>\n",
       "<table border=\"1\" class=\"dataframe\">\n",
       "  <thead>\n",
       "    <tr style=\"text-align: right;\">\n",
       "      <th></th>\n",
       "      <th>index</th>\n",
       "      <th>Date</th>\n",
       "      <th>Australia</th>\n",
       "      <th>Canada</th>\n",
       "      <th>UK</th>\n",
       "      <th>US</th>\n",
       "    </tr>\n",
       "  </thead>\n",
       "  <tbody>\n",
       "    <tr>\n",
       "      <th>0</th>\n",
       "      <td>0</td>\n",
       "      <td>2015-16</td>\n",
       "      <td>64014</td>\n",
       "      <td>2118681</td>\n",
       "      <td>3402114</td>\n",
       "      <td>9258298</td>\n",
       "    </tr>\n",
       "    <tr>\n",
       "      <th>1</th>\n",
       "      <td>1</td>\n",
       "      <td>2016-17</td>\n",
       "      <td>61198</td>\n",
       "      <td>2161927</td>\n",
       "      <td>4814467</td>\n",
       "      <td>9214136</td>\n",
       "    </tr>\n",
       "    <tr>\n",
       "      <th>2</th>\n",
       "      <td>2</td>\n",
       "      <td>2017-18</td>\n",
       "      <td>61237</td>\n",
       "      <td>2213293</td>\n",
       "      <td>5457761</td>\n",
       "      <td>8966863</td>\n",
       "    </tr>\n",
       "    <tr>\n",
       "      <th>3</th>\n",
       "      <td>3</td>\n",
       "      <td>2018-19</td>\n",
       "      <td>53583</td>\n",
       "      <td>2280328</td>\n",
       "      <td>5835033</td>\n",
       "      <td>8471483</td>\n",
       "    </tr>\n",
       "    <tr>\n",
       "      <th>4</th>\n",
       "      <td>4</td>\n",
       "      <td>2019-20</td>\n",
       "      <td>40975</td>\n",
       "      <td>2438518</td>\n",
       "      <td>6090632</td>\n",
       "      <td>8171087</td>\n",
       "    </tr>\n",
       "  </tbody>\n",
       "</table>\n",
       "</div>"
      ],
      "text/plain": [
       "   index     Date  Australia   Canada       UK       US\n",
       "0      0  2015-16      64014  2118681  3402114  9258298\n",
       "1      1  2016-17      61198  2161927  4814467  9214136\n",
       "2      2  2017-18      61237  2213293  5457761  8966863\n",
       "3      3  2018-19      53583  2280328  5835033  8471483\n",
       "4      4  2019-20      40975  2438518  6090632  8171087"
      ]
     },
     "execution_count": 13,
     "metadata": {},
     "output_type": "execute_result"
    }
   ],
   "source": [
    "pd.read_sql(\"SELECT * FROM combined_data\", engine)"
   ]
  },
  {
   "cell_type": "markdown",
   "metadata": {},
   "source": [
    "# VISUALIZATIONS"
   ]
  },
  {
   "cell_type": "code",
   "execution_count": 14,
   "metadata": {},
   "outputs": [
    {
     "data": {
      "image/png": "[encoded data removed]",
      "text/plain": [
       "<Figure size 432x288 with 1 Axes>"
      ]
     },
     "metadata": {
      "needs_background": "light"
     },
     "output_type": "display_data"
    }
   ],
   "source": [
    "# Australia\n",
    "plt.figure()\n",
    "plt.bar(data['Date'], data['Australia'], width = 0.7, color = ('red', 'green', 'blue', 'orangered', 'purple'))\n",
    "plt.xlabel('Year', fontsize = 12, fontweight = 'bold')\n",
    "plt.ylabel('Numbers', fontsize = 12, fontweight = 'bold')\n",
    "plt.xticks(fontweight = 'bold')\n",
    "plt.yticks(fontweight = 'bold')\n",
    "plt.title('Number of Crimes in Australia', fontsize = 15, fontweight = 'bold')\n",
    "plt.show()"
   ]
  },
  {
   "cell_type": "code",
   "execution_count": 15,
   "metadata": {},
   "outputs": [
    {
     "data": {
      "image/png": "[encoded data removed]",
      "text/plain": [
       "<Figure size 432x288 with 1 Axes>"
      ]
     },
     "metadata": {
      "needs_background": "light"
     },
     "output_type": "display_data"
    }
   ],
   "source": [
    "# Canada\n",
    "plt.figure()\n",
    "plt.bar(data['Date'], data['Canada'], width = 0.7, color = ('red', 'green', 'blue', 'orangered', 'purple'))\n",
    "plt.xlabel('Year', fontsize = 12, fontweight = 'bold')\n",
    "plt.ylabel('Numbers (in million)', fontsize = 12, fontweight = 'bold')\n",
    "plt.xticks(fontweight = 'bold')\n",
    "plt.yticks(fontweight = 'bold')\n",
    "plt.title('Number of Crimes in Canada', fontsize = 15, fontweight = 'bold')\n",
    "plt.show()"
   ]
  },
  {
   "cell_type": "code",
   "execution_count": 16,
   "metadata": {},
   "outputs": [
    {
     "data": {
      "image/png": "[encoded data removed]",
      "text/plain": [
       "<Figure size 432x288 with 1 Axes>"
      ]
     },
     "metadata": {
      "needs_background": "light"
     },
     "output_type": "display_data"
    }
   ],
   "source": [
    "# UK\n",
    "plt.figure()\n",
    "plt.bar(data['Date'], data['UK'], width = 0.7, color = ('red', 'green', 'blue', 'orangered', 'purple'))\n",
    "plt.xlabel('Year', fontsize = 12, fontweight = 'bold')\n",
    "plt.ylabel('Numbers (in million)', fontsize = 12, fontweight = 'bold')\n",
    "plt.xticks(fontweight = 'bold')\n",
    "plt.yticks(fontweight = 'bold')\n",
    "plt.title('Number of Crimes in UK', fontsize = 15, fontweight = 'bold')\n",
    "plt.show()"
   ]
  },
  {
   "cell_type": "code",
   "execution_count": 17,
   "metadata": {},
   "outputs": [
    {
     "data": {
      "image/png": "[encoded data removed]",
      "text/plain": [
       "<Figure size 432x288 with 1 Axes>"
      ]
     },
     "metadata": {
      "needs_background": "light"
     },
     "output_type": "display_data"
    }
   ],
   "source": [
    "# USA\n",
    "plt.figure()\n",
    "plt.bar(data['Date'],data['US'], width = 0.7, color = ('red', 'green', 'blue', 'orangered', 'purple'))\n",
    "plt.xlabel('Year', fontsize = 12, fontweight = 'bold')\n",
    "plt.ylabel('Number (in million)', fontsize = 12, fontweight = 'bold')\n",
    "plt.xticks(fontweight = 'bold')\n",
    "plt.yticks(fontweight = 'bold')\n",
    "plt.title('Number of Crimes in USA', fontsize = 15, fontweight = 'bold')\n",
    "plt.show()"
   ]
  },
  {
   "cell_type": "code",
   "execution_count": 18,
   "metadata": {},
   "outputs": [
    {
     "data": {
      "text/plain": [
       "(array([       0.,  2000000.,  4000000.,  6000000.,  8000000., 10000000.]),\n",
       " [Text(0, 0, ''),\n",
       "  Text(0, 0, ''),\n",
       "  Text(0, 0, ''),\n",
       "  Text(0, 0, ''),\n",
       "  Text(0, 0, ''),\n",
       "  Text(0, 0, '')])"
      ]
     },
     "execution_count": 18,
     "metadata": {},
     "output_type": "execute_result"
    },
    {
     "data": {
      "image/png": "[encoded data removed]",
      "text/plain": [
       "<Figure size 1080x720 with 1 Axes>"
      ]
     },
     "metadata": {
      "needs_background": "light"
     },
     "output_type": "display_data"
    }
   ],
   "source": [
    "#ax = data.plot.area(stacked = False, title = 'Area plot for Crimes in Australia, Canada, UK and USA\\n', figsize = (20, 10), ylabel = 'Numbers (in 100,000)', xlabel = '5-Year Timeline')\n",
    "ax = data.plot.area(stacked = False, figsize = (15, 10))\n",
    "plt.legend(loc = 'upper right')\n",
    "plt.title('AREA PLOT FOR CRIMES IN\\nAUSTRALIA, CANADA, UK & USA', size = 20, c = 'forestgreen', fontweight = 'bold')\n",
    "plt.xlabel('5-Year Timeline', fontsize = 12, c = 'mediumvioletred', fontweight = 'bold')\n",
    "plt.ylabel('Numbers (in million)', fontsize = 12, c = 'mediumvioletred', fontweight = 'bold')\n",
    "plt.xticks(fontsize = 12, rotation = 'horizontal', fontweight = 'bold')\n",
    "plt.yticks(fontsize = 12, fontweight = 'bold')"
   ]
  }
 ],
 "metadata": {
  "kernelspec": {
   "display_name": "Python 3",
   "language": "python",
   "name": "python3"
  },
  "language_info": {
   "codemirror_mode": {
    "name": "ipython",
    "version": 3
   },
   "file_extension": ".py",
   "mimetype": "text/x-python",
   "name": "python",
   "nbconvert_exporter": "python",
   "pygments_lexer": "ipython3",
   "version": "3.8.6"
  }
 },
 "nbformat": 4,
 "nbformat_minor": 4
}
